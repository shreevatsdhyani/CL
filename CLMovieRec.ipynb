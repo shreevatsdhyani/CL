{
  "nbformat": 4,
  "nbformat_minor": 0,
  "metadata": {
    "colab": {
      "provenance": [],
      "gpuType": "T4",
      "authorship_tag": "ABX9TyMRgIx/7f7a+aHApNZav1Xs",
      "include_colab_link": true
    },
    "kernelspec": {
      "name": "python3",
      "display_name": "Python 3"
    },
    "language_info": {
      "name": "python"
    },
    "accelerator": "GPU"
  },
  "cells": [
    {
      "cell_type": "markdown",
      "metadata": {
        "id": "view-in-github",
        "colab_type": "text"
      },
      "source": [
        "<a href=\"https://colab.research.google.com/github/shreevatsdhyani/CL/blob/main/CLMovieRec.ipynb\" target=\"_parent\"><img src=\"https://colab.research.google.com/assets/colab-badge.svg\" alt=\"Open In Colab\"/></a>"
      ]
    },
    {
      "cell_type": "markdown",
      "source": [
        "Install required packages"
      ],
      "metadata": {
        "id": "Vz_YlAz6K2Tw"
      }
    },
    {
      "cell_type": "code",
      "execution_count": 1,
      "metadata": {
        "id": "fN4YpM0lKujm"
      },
      "outputs": [],
      "source": [
        "!pip install requests openai python-dotenv --quiet"
      ]
    },
    {
      "cell_type": "markdown",
      "source": [
        "Add your API keys (Groq & TMDb)"
      ],
      "metadata": {
        "id": "6w-14RpuK849"
      }
    },
    {
      "cell_type": "code",
      "source": [
        "import os\n",
        "\n",
        "# Add your keys here or use dotenv\n",
        "os.environ['GROQ_API_KEY'] = \"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\"\n",
        "os.environ['TMDB_API_KEY'] = \"c2edee2bf1f7ad6992b082e8265d6f96\"\n"
      ],
      "metadata": {
        "id": "R4ktoAL-K4iH"
      },
      "execution_count": 2,
      "outputs": []
    },
    {
      "cell_type": "markdown",
      "source": [
        "Initialize Groq client using the environment variable:"
      ],
      "metadata": {
        "id": "MeNkqxtyPylR"
      }
    },
    {
      "cell_type": "code",
      "source": [
        "!pip install -q groq\n",
        "# Import Groq client\n",
        "from groq import Groq\n",
        "import json\n",
        "# Initialize Groq client with the API key from environment variable\n",
        "groq_api_key = \"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\"\n",
        "client = Groq(api_key=groq_api_key)\n"
      ],
      "metadata": {
        "colab": {
          "base_uri": "https://localhost:8080/"
        },
        "id": "r1c8cMTdPzWY",
        "outputId": "d8aae213-848a-4073-c4f9-2d6d5ac455ab"
      },
      "execution_count": 3,
      "outputs": [
        {
          "output_type": "stream",
          "name": "stdout",
          "text": [
            "\u001b[?25l   \u001b[90m━━━━━━━━━━━━━━━━━━━━━━━━━━━━━━━━━━━━━━━━\u001b[0m \u001b[32m0.0/126.7 kB\u001b[0m \u001b[31m?\u001b[0m eta \u001b[36m-:--:--\u001b[0m\r\u001b[2K   \u001b[90m━━━━━━━━━━━━━━━━━━━━━━━━━━━━━━━━━━━━━━━━\u001b[0m \u001b[32m126.7/126.7 kB\u001b[0m \u001b[31m6.6 MB/s\u001b[0m eta \u001b[36m0:00:00\u001b[0m\n",
            "\u001b[?25h"
          ]
        }
      ]
    },
    {
      "cell_type": "markdown",
      "source": [
        "Validate the API Key (Optional but recommended)"
      ],
      "metadata": {
        "id": "G9tIWDMoSu4J"
      }
    },
    {
      "cell_type": "code",
      "source": [
        "import requests\n",
        "\n",
        "# Retrieve the API key from environment variables\n",
        "api_key = os.getenv('TMDB_API_KEY')\n",
        "\n",
        "# Test API call to check if the key is working\n",
        "test_url = f\"https://api.themoviedb.org/3/movie/popular?api_key={api_key}\"\n",
        "test_response = requests.get(test_url).json()\n",
        "\n",
        "# Check if the response contains a valid result\n",
        "if test_response.get('status_code') == 7:\n",
        "    print(\"API Key issue. Please check your key.\")\n",
        "else:\n",
        "    print(\"API Key is working fine!\")\n",
        "    print(test_response)\n"
      ],
      "metadata": {
        "colab": {
          "base_uri": "https://localhost:8080/"
        },
        "id": "FZzlNeh8SzL3",
        "outputId": "411914a4-4b84-47eb-8ec6-da756dc9683a"
      },
      "execution_count": 4,
      "outputs": [
        {
          "output_type": "stream",
          "name": "stdout",
          "text": [
            "API Key is working fine!\n",
            "{'page': 1, 'results': [{'adult': False, 'backdrop_path': '/fTrQsdMS2MUw00RnzH0r3JWHhts.jpg', 'genre_ids': [28, 80, 53], 'id': 1197306, 'original_language': 'en', 'original_title': 'A Working Man', 'overview': \"Levon Cade left behind a decorated military career in the black ops to live a simple life working construction. But when his boss's daughter, who is like family to him, is taken by human traffickers, his search to bring her home uncovers a world of corruption far greater than he ever could have imagined.\", 'popularity': 1092.1175, 'poster_path': '/xUkUZ8eOnrOnnJAfusZUqKYZiDu.jpg', 'release_date': '2025-03-26', 'title': 'A Working Man', 'video': False, 'vote_average': 6.4, 'vote_count': 375}, {'adult': False, 'backdrop_path': '/op3qmNhvwEvyT7UFyPbIfQmKriB.jpg', 'genre_ids': [14, 12, 28], 'id': 324544, 'original_language': 'en', 'original_title': 'In the Lost Lands', 'overview': 'A queen sends the powerful and feared sorceress Gray Alys to the ghostly wilderness of the Lost Lands in search of a magical power, where she and her guide, the drifter Boyce, must outwit and outfight both man and demon.', 'popularity': 576.2841, 'poster_path': '/iHf6bXPghWB6gT8kFkL1zo00x6X.jpg', 'release_date': '2025-02-27', 'title': 'In the Lost Lands', 'video': False, 'vote_average': 6.337, 'vote_count': 254}, {'adult': False, 'backdrop_path': '/2Nti3gYAX513wvhp8IiLL6ZDyOm.jpg', 'genre_ids': [10751, 35, 12, 14], 'id': 950387, 'original_language': 'en', 'original_title': 'A Minecraft Movie', 'overview': \"Four misfits find themselves struggling with ordinary problems when they are suddenly pulled through a mysterious portal into the Overworld: a bizarre, cubic wonderland that thrives on imagination. To get back home, they'll have to master this world while embarking on a magical quest with an unexpected, expert crafter, Steve.\", 'popularity': 579.1927, 'poster_path': '/yFHHfHcUgGAxziP1C3lLt0q2T4s.jpg', 'release_date': '2025-03-31', 'title': 'A Minecraft Movie', 'video': False, 'vote_average': 6.148, 'vote_count': 676}, {'adult': False, 'backdrop_path': '/jhL4eTpccoZSVehhcR8DKLSBHZy.jpg', 'genre_ids': [28, 53, 878], 'id': 822119, 'original_language': 'en', 'original_title': 'Captain America: Brave New World', 'overview': 'After meeting with newly elected U.S. President Thaddeus Ross, Sam finds himself in the middle of an international incident. He must discover the reason behind a nefarious global plot before the true mastermind has the entire world seeing red.', 'popularity': 405.1812, 'poster_path': '/pzIddUEMWhWzfvLI3TwxUG2wGoi.jpg', 'release_date': '2025-02-12', 'title': 'Captain America: Brave New World', 'video': False, 'vote_average': 6.148, 'vote_count': 1570}, {'adult': False, 'backdrop_path': '/k32XKMjmXMGeydykD32jfER3BVI.jpg', 'genre_ids': [28, 9648, 18], 'id': 1045938, 'original_language': 'en', 'original_title': 'G20', 'overview': 'After the G20 Summit is overtaken by terrorists, President Danielle Sutton must bring all her statecraft and military experience to defend her family and her fellow leaders.', 'popularity': 349.8683, 'poster_path': '/wv6oWAleCJZUk5htrGg413t3GCy.jpg', 'release_date': '2025-04-09', 'title': 'G20', 'video': False, 'vote_average': 6.678, 'vote_count': 343}, {'adult': False, 'backdrop_path': '/sNx1A3822kEbqeUxvo5A08o4N7o.jpg', 'genre_ids': [28, 35, 53], 'id': 1195506, 'original_language': 'en', 'original_title': 'Novocaine', 'overview': 'When the girl of his dreams is kidnapped, everyman Nate turns his inability to feel pain into an unexpected strength in his fight to get her back.', 'popularity': 327.7986, 'poster_path': '/xmMHGz9dVRaMY6rRAlEX4W0Wdhm.jpg', 'release_date': '2025-03-12', 'title': 'Novocaine', 'video': False, 'vote_average': 6.865, 'vote_count': 550}, {'adult': False, 'backdrop_path': '/zksO4lVnRKRoaSYzh2EDn2Z3Pel.jpg', 'genre_ids': [37, 28], 'id': 1293286, 'original_language': 'en', 'original_title': 'Gunslingers', 'overview': 'When the most wanted man in America surfaces in a small Kentucky town, his violent history -- and a blood-thirsty mob seeking vengeance and a king’s ransom -- soon follow. As brothers face off against one another and bullets tear the town to shreds, this lightning-fast gunslinger makes his enemies pay the ultimate price for their greed.', 'popularity': 287.3376, 'poster_path': '/O7REXWPANWXvX2jhQydHjAq2DV.jpg', 'release_date': '2025-04-11', 'title': 'Gunslingers', 'video': False, 'vote_average': 6.879, 'vote_count': 33}, {'adult': False, 'backdrop_path': '/3lEV4CoKoeT2cZ4fbKEJugZcw6Z.jpg', 'genre_ids': [27, 9648], 'id': 1244944, 'original_language': 'en', 'original_title': 'The Woman in the Yard', 'overview': \"In the aftermath of her husband's death, widow Ramona's struggle to raise her two kids is hindered by the arrival of a mysterious woman with supernatural abilities.\", 'popularity': 287.1802, 'poster_path': '/n0WS2TsNcS6dtaZKzxipyO7LuCJ.jpg', 'release_date': '2025-03-27', 'title': 'The Woman in the Yard', 'video': False, 'vote_average': 6.1, 'vote_count': 85}, {'adult': False, 'backdrop_path': '/nAxGnGHOsfzufThz20zgmRwKur3.jpg', 'genre_ids': [27, 28, 53], 'id': 1233413, 'original_language': 'en', 'original_title': 'Sinners', 'overview': 'Trying to leave their troubled lives behind, twin brothers return to their hometown to start again, only to discover that an even greater evil is waiting to welcome them back.', 'popularity': 273.8902, 'poster_path': '/fWPgbnt2LSqkQ6cdQc0SZN9CpLm.jpg', 'release_date': '2025-04-16', 'title': 'Sinners', 'video': False, 'vote_average': 7.394, 'vote_count': 218}, {'adult': False, 'backdrop_path': '/pulJ1iY7GVeppMRipiR7ZGDW7EW.jpg', 'genre_ids': [18], 'id': 615, 'original_language': 'en', 'original_title': 'The Passion of the Christ', 'overview': \"A graphic portrayal of the last twelve hours of Jesus of Nazareth's life.\", 'popularity': 184.8421, 'poster_path': '/v9f9MMrq2nGQrN7cHnQRmEq9lSE.jpg', 'release_date': '2004-02-25', 'title': 'The Passion of the Christ', 'video': False, 'vote_average': 7.519, 'vote_count': 4800}, {'adult': False, 'backdrop_path': '/cJCW78MZsyyXBKHo4V25WctK00V.jpg', 'genre_ids': [27, 28, 14], 'id': 1312833, 'original_language': 'en', 'original_title': \"A Knight's War\", 'overview': 'A fearless knight braves a deadly realm to save the Chosen One’s soul. Facing witches, demons, and brutal foes, he discovers her return could ignite chaos and doom humanity.', 'popularity': 174.1072, 'poster_path': '/janjdSMrTRGtPrI1p9uOX66jv7x.jpg', 'release_date': '2025-02-07', 'title': \"A Knight's War\", 'video': False, 'vote_average': 5.107, 'vote_count': 14}, {'adult': False, 'backdrop_path': '/wmqpE7p2dUCEgCnovuovoNXaCXr.jpg', 'genre_ids': [27, 14, 53, 9648, 28], 'id': 1353117, 'original_language': 'en', 'original_title': 'Home Sweet Home: Rebirth', 'overview': 'When a city is overrun with a demonically-possessed crowd, a cop must find the source of evil to save his family.', 'popularity': 169.7002, 'poster_path': '/9rCBCm9cyI4JfLEhx3EncyncMR3.jpg', 'release_date': '2025-03-20', 'title': 'Home Sweet Home: Rebirth', 'video': False, 'vote_average': 6.8, 'vote_count': 41}, {'adult': False, 'backdrop_path': '/zo8CIjJ2nfNOevqNajwMRO6Hwka.jpg', 'genre_ids': [16, 12, 10751, 35], 'id': 1241982, 'original_language': 'en', 'original_title': 'Moana 2', 'overview': \"After receiving an unexpected call from her wayfinding ancestors, Moana journeys alongside Maui and a new crew to the far seas of Oceania and into dangerous, long-lost waters for an adventure unlike anything she's ever faced.\", 'popularity': 177.3261, 'poster_path': '/aLVkiINlIeCkcZIzb7XHzPYgO6L.jpg', 'release_date': '2024-11-21', 'title': 'Moana 2', 'video': False, 'vote_average': 7.1, 'vote_count': 2257}, {'adult': False, 'backdrop_path': '/1w8kutrRucTd3wlYyu5QlUDMiG1.jpg', 'genre_ids': [12, 10751, 16], 'id': 762509, 'original_language': 'en', 'original_title': 'Mufasa: The Lion King', 'overview': 'Mufasa, a cub lost and alone, meets a sympathetic lion named Taka, the heir to a royal bloodline. The chance meeting sets in motion an expansive journey of a group of misfits searching for their destiny.', 'popularity': 168.6031, 'poster_path': '/lurEK87kukWNaHd0zYnsi3yzJrs.jpg', 'release_date': '2024-12-18', 'title': 'Mufasa: The Lion King', 'video': False, 'vote_average': 7.4, 'vote_count': 1997}, {'adult': False, 'backdrop_path': '/zOpe0eHsq0A2NvNyBbtT6sj53qV.jpg', 'genre_ids': [28, 878, 35, 10751], 'id': 939243, 'original_language': 'en', 'original_title': 'Sonic the Hedgehog 3', 'overview': 'Sonic, Knuckles, and Tails reunite against a powerful new adversary, Shadow, a mysterious villain with powers unlike anything they have faced before. With their abilities outmatched in every way, Team Sonic must seek out an unlikely alliance in hopes of stopping Shadow and protecting the planet.', 'popularity': 164.2523, 'poster_path': '/d8Ryb8AunYAuycVKDp5HpdWPKgC.jpg', 'release_date': '2024-12-19', 'title': 'Sonic the Hedgehog 3', 'video': False, 'vote_average': 7.7, 'vote_count': 2449}, {'adult': False, 'backdrop_path': '/gsQJOfeW45KLiQeEIsom94QPQwb.jpg', 'genre_ids': [28, 53], 'id': 1125899, 'original_language': 'en', 'original_title': 'Cleaner', 'overview': \"When a group of radical activists take over an energy company's annual gala, seizing 300 hostages, an ex-soldier turned window cleaner suspended 50 storeys up on the outside of the building must save those trapped inside, including her younger brother.\", 'popularity': 151.5649, 'poster_path': '/mwzDApMZAGeYCEVjhegKvCzDX0W.jpg', 'release_date': '2025-02-19', 'title': 'Cleaner', 'video': False, 'vote_average': 6.595, 'vote_count': 221}, {'adult': False, 'backdrop_path': '/ibF5XVxTzf1ayzZrmiJqgeQ39Qk.jpg', 'genre_ids': [28, 10752], 'id': 1373723, 'original_language': 'en', 'original_title': 'The Codes of War', 'overview': 'War stories about family, ethics and honor include the true story of two U.S. Marines who in a span of six seconds, must stand their ground to stop a suicide truck bomb, a Navy Corpsman who attempts to hold on to his humanity, and a WW2 soldier who gets separated from his squad and is forced to re-evaluate his code.', 'popularity': 146.1065, 'poster_path': '/oXeiQAfRK90pxxhP5iKPXQqAIN1.jpg', 'release_date': '2025-03-20', 'title': 'The Codes of War', 'video': False, 'vote_average': 6.2, 'vote_count': 59}, {'adult': False, 'backdrop_path': '/hNA73rnG4PjSwgojaC2gbO1f8Rt.jpg', 'genre_ids': [878, 35, 12], 'id': 696506, 'original_language': 'en', 'original_title': 'Mickey 17', 'overview': 'Unlikely hero Mickey Barnes finds himself in the extraordinary circumstance of working for an employer who demands the ultimate commitment to the job… to die, for a living.', 'popularity': 146.7086, 'poster_path': '/edKpE9B5qN3e559OuMCLZdW1iBZ.jpg', 'release_date': '2025-02-28', 'title': 'Mickey 17', 'video': False, 'vote_average': 6.903, 'vote_count': 1672}, {'adult': False, 'backdrop_path': '/vNUwK5P42m81uG57kKI1WxSZwIQ.jpg', 'genre_ids': [35, 10749], 'id': 1403735, 'original_language': 'te', 'original_title': 'లైలా', 'overview': 'Sonu Model, a renowned beautician from the old city, is forced to disguise himself as Laila, leading to a series of comedic, romantic, and action-packed events. Chaos ensues in this hilarious laugh riot', 'popularity': 130.1655, 'poster_path': '/l4gsNxFPGpzbq0D6QK1a8vO1lBz.jpg', 'release_date': '2025-02-14', 'title': 'Laila', 'video': False, 'vote_average': 1.0, 'vote_count': 1}, {'adult': False, 'backdrop_path': '/is9bmV6uYXu7LjZGJczxrjJDlv8.jpg', 'genre_ids': [28, 12], 'id': 1229730, 'original_language': 'fr', 'original_title': 'Carjackers', 'overview': \"By day, they're invisible—valets, hostesses, and bartenders at a luxury hotel. By night, they're the Carjackers, a crew of skilled drivers who track and rob wealthy clients on the road. As they plan their ultimate heist, the hotel director hires a ruthless hitman, to stop them at all costs. With danger closing in, can Nora, Zoe, Steve, and Prestance pull off their biggest score yet?\", 'popularity': 128.3166, 'poster_path': '/wbkPMTz2vVai7Ujyp0ag7AM9SrO.jpg', 'release_date': '2025-03-27', 'title': 'Carjackers', 'video': False, 'vote_average': 6.153, 'vote_count': 150}], 'total_pages': 49859, 'total_results': 997170}\n"
          ]
        }
      ]
    },
    {
      "cell_type": "markdown",
      "source": [
        "TMDb API - Search movies by filters (rating, genre, actor)"
      ],
      "metadata": {
        "id": "GqD-j8oILPx9"
      }
    },
    {
      "cell_type": "code",
      "source": [
        "import requests\n",
        "import os\n",
        "def search_movies(query=None, genre=None, actor=None, min_rating=0, year_range=None, keywords=None):\n",
        "    api_key = os.getenv(\"TMDB_API_KEY\")\n",
        "    base_url = \"https://api.themoviedb.org/3\"\n",
        "\n",
        "    # Step 1: Get genre ID if genre is specified\n",
        "    genre_id = None\n",
        "    if genre:\n",
        "        genre_response = requests.get(f\"{base_url}/genre/movie/list\", params={\"api_key\": api_key}).json()\n",
        "        genre_dict = {g[\"name\"].lower(): g[\"id\"] for g in genre_response[\"genres\"]}\n",
        "        genre_id = genre_dict.get(genre.lower())\n",
        "\n",
        "    # Step 2: Get actor ID if actor is specified\n",
        "    actor_id = None\n",
        "    if actor:\n",
        "        actor_search = requests.get(f\"{base_url}/search/person\", params={\"api_key\": api_key, \"query\": actor}).json()\n",
        "        if actor_search.get(\"results\"):\n",
        "            actor_id = actor_search[\"results\"][0][\"id\"]\n",
        "\n",
        "    # Step 3: Use DISCOVER endpoint with filters\n",
        "    params = {\n",
        "        \"api_key\": api_key,\n",
        "        \"language\": \"en-US\",\n",
        "        \"include_adult\": False,\n",
        "        \"sort_by\": \"vote_average.desc\",  # Sort by rating (highest first)\n",
        "        \"vote_count.gte\": 1000,  # Only include well-rated movies\n",
        "    }\n",
        "\n",
        "    if genre_id:\n",
        "        params[\"with_genres\"] = genre_id\n",
        "    if actor_id:\n",
        "        params[\"with_people\"] = actor_id\n",
        "    if min_rating > 0:\n",
        "        params[\"vote_average.gte\"] = min_rating\n",
        "    if year_range:\n",
        "        start_year, end_year = year_range\n",
        "        params[\"primary_release_date.gte\"] = f\"{start_year}-01-01\"\n",
        "        params[\"primary_release_date.lte\"] = f\"{end_year}-12-31\"\n",
        "\n",
        "    discover_url = f\"{base_url}/discover/movie\"\n",
        "    discover_response = requests.get(discover_url, params=params).json()\n",
        "    movies = discover_response.get(\"results\", [])\n",
        "\n",
        "    # Filter out movies where romance isn't the primary genre\n",
        "    if genre and genre.lower() == \"romance\":\n",
        "        movies = [m for m in movies if \"Romance\" in [g[\"name\"] for g in m.get(\"genres\", [])]]\n",
        "\n",
        "    # Fallback: If no movies, relax genre filter slightly\n",
        "    if not movies and genre_id:\n",
        "        params.pop(\"with_genres\", None)\n",
        "        discover_response = requests.get(discover_url, params=params).json()\n",
        "        movies = discover_response.get(\"results\", [])\n",
        "\n",
        "    # Filter by keywords if provided\n",
        "    if keywords:\n",
        "        keyword_str = \" \".join(keywords).lower()\n",
        "        movies = [m for m in movies if keyword_str in m.get(\"overview\", \"\").lower()]\n",
        "\n",
        "    # Prioritize English/Hindi movies\n",
        "    preferred_languages = [\"en\", \"hi\"]\n",
        "    preferred = [m for m in movies if m.get(\"original_language\") in preferred_languages]\n",
        "    others = [m for m in movies if m.get(\"original_language\") not in preferred_languages]\n",
        "\n",
        "    return (preferred + others)[:5]  # Return top 5 results"
      ],
      "metadata": {
        "id": "F_ijkcojLNFX"
      },
      "execution_count": 5,
      "outputs": []
    },
    {
      "cell_type": "markdown",
      "source": [
        "Memory for Last 3 Conversations"
      ],
      "metadata": {
        "id": "k7NXiWuyNBky"
      }
    },
    {
      "cell_type": "code",
      "source": [
        "conversation_memory = []\n",
        "\n",
        "def update_memory(user_input, bot_response):\n",
        "    conversation_memory.append((user_input, bot_response))\n",
        "    if len(conversation_memory) > 3:\n",
        "        conversation_memory.pop(0)\n",
        "\n",
        "def get_memory_context():\n",
        "    return \"\\n\".join([f\"User: {u}\\nBot: {b}\" for u, b in conversation_memory])\n"
      ],
      "metadata": {
        "id": "_mEksFtZMq_4"
      },
      "execution_count": 6,
      "outputs": []
    },
    {
      "cell_type": "markdown",
      "source": [
        "Extract Filters from Prompt using Groq"
      ],
      "metadata": {
        "id": "VY4c6jTQNKSz"
      }
    },
    {
      "cell_type": "code",
      "source": [
        "import openai\n",
        "import json\n",
        "\n",
        "def extract_filters(prompt):\n",
        "    extract_prompt = f\"\"\"\n",
        "Extract the movie filters in JSON format from the prompt below.\n",
        "\n",
        "PROMPT: \"{prompt}\"\n",
        "\n",
        "Return JSON with keys: genre, actor, year, rating.\n",
        "Only include keys present in the prompt.\n",
        "\n",
        "EXAMPLE OUTPUTS:\n",
        "{{\"genre\": \"romantic\", \"actor\": \"Emma Stone\", \"year\": 2010, \"rating\": 7}}\n",
        "{{\"genre\": \"action\"}}\n",
        "{{\"actor\": \"Tom Hanks\", \"rating\": 8}}\n",
        "\n",
        "Strictly output valid JSON. No extra text.\n",
        "\"\"\"\n",
        "\n",
        "    response = client.chat.completions.create(\n",
        "        model=\"llama-3.3-70b-versatile\",\n",
        "        messages=[{\"role\": \"user\", \"content\": extract_prompt}],\n",
        "        temperature=0.2\n",
        "    )\n",
        "\n",
        "    output_text = response.choices[0].message.content.strip()\n",
        "\n",
        "    # Safely try to parse JSON\n",
        "    try:\n",
        "        filters = json.loads(output_text)\n",
        "        return filters\n",
        "    except Exception as e:\n",
        "        print(f\"⚠️ Filter parsing error: {e}\\nRaw output: {output_text}\")\n",
        "        return {}  # Return empty dict to gracefully handle the failure\n"
      ],
      "metadata": {
        "id": "QNSgHhlmNGAR"
      },
      "execution_count": 7,
      "outputs": []
    },
    {
      "cell_type": "markdown",
      "source": [
        "Generate Reply using Groq"
      ],
      "metadata": {
        "id": "HxvRsH4aNW0x"
      }
    },
    {
      "cell_type": "code",
      "source": [
        "def generate_reply(user_prompt, recommended_movies):\n",
        "    memory = get_memory_context()\n",
        "    movie_text = \"\\n\".join([\n",
        "        f\"{m['title']} ({m['release_date'][:4] if m.get('release_date') else 'N/A'}) - Rating: {m.get('vote_average', 0)}\"\n",
        "        for m in recommended_movies\n",
        "    ])\n",
        "\n",
        "    full_prompt = f\"\"\"\n",
        "You are a friendly movie assistant. Help the user with great movie suggestions USING EMOJIS to make it fun and engaging.\n",
        "\n",
        "Memory:\n",
        "{memory}\n",
        "\n",
        "User asked: {user_prompt}\n",
        "\n",
        "You found these movies:\n",
        "{movie_text}\n",
        "\n",
        "Rules:\n",
        "- Use 2-3 emojis per movie suggestion (e.g., 🎬, ❤️, 🍿)\n",
        "- Add genre/theme emojis (e.g., 🚀 for sci-fi, 🧟 for horror)\n",
        "- Include rating stars (⭐)\n",
        "- Keep it natural and not overdone!\n",
        "\n",
        "Give a helpful reply using this info.\n",
        "    \"\"\"\n",
        "\n",
        "    response = client.chat.completions.create(\n",
        "        model=\"llama3-70b-8192\",  # Updated model (or \"mixtral-8x7b-32768\" if preferred)\n",
        "        messages=[{\"role\": \"user\", \"content\": full_prompt}],\n",
        "        temperature=0.7\n",
        "    )\n",
        "    reply = response.choices[0].message.content\n",
        "    update_memory(user_prompt, reply)\n",
        "    return reply"
      ],
      "metadata": {
        "id": "l19METVWNRgn"
      },
      "execution_count": 8,
      "outputs": []
    },
    {
      "cell_type": "markdown",
      "source": [
        "Chat Function"
      ],
      "metadata": {
        "id": "T9jRjgOcNx3x"
      }
    },
    {
      "cell_type": "code",
      "source": [
        "def chat_with_bot(prompt):\n",
        "    filters = extract_filters(prompt)\n",
        "    genre = filters.get(\"genre\")\n",
        "    actor = filters.get(\"actor\")\n",
        "    year = filters.get(\"year\")\n",
        "    year_range = (year, 2025) if isinstance(year, int) else None\n",
        "    min_rating = filters.get(\"rating\", 0)\n",
        "\n",
        "    keywords = filters.get(\"keywords\", [])\n",
        "\n",
        "    movies = search_movies(\n",
        "        query=prompt,\n",
        "        genre=genre,\n",
        "        actor=actor,\n",
        "        min_rating=min_rating,\n",
        "        year_range=year_range,\n",
        "        keywords=keywords\n",
        "    )\n",
        "\n",
        "    if not movies:\n",
        "        return \"No matching movies found. Try refining your preferences!\"\n",
        "\n",
        "    reply = generate_reply(prompt, movies)\n",
        "    return reply\n"
      ],
      "metadata": {
        "id": "aBUg49dNNuLS"
      },
      "execution_count": 9,
      "outputs": []
    },
    {
      "cell_type": "markdown",
      "source": [
        "Test It"
      ],
      "metadata": {
        "id": "V8isSJdSN-pP"
      }
    },
    {
      "cell_type": "code",
      "source": [
        "user_input = \"suggest some movies like harry potter\"\n",
        "\n",
        "print(chat_with_bot(user_input))\n"
      ],
      "metadata": {
        "colab": {
          "base_uri": "https://localhost:8080/"
        },
        "id": "61XeU2qqN7eT",
        "outputId": "97d0f6f2-02f9-420b-c414-a975f16ead21"
      },
      "execution_count": 11,
      "outputs": [
        {
          "output_type": "stream",
          "name": "stdout",
          "text": [
            "Hey there, magic lover! ✨️🧙‍♂️\n",
            "\n",
            "You're looking for movies like Harry Potter, eh? ⚡️ I've got some enchanting suggestions for you! 😉\n",
            "\n",
            "Since you enjoy fantasy adventures with a touch of magic, here are some spellbinding recommendations:\n",
            "\n",
            "**The Green Mile (1999) - ⭐⭐⭐⭐⭐ 8.504** ⚡️👮‍♂️\n",
            "A fantastical tale of friendship, hope, and redemption, set in a prison with a touch of the supernatural.\n",
            "\n",
            "**The Lord of the Rings Trilogy (2001-2003) - ⭐⭐⭐⭐⭐ 8.42-8.483** ⚔️🔥🏰\n",
            "Experience the epic fantasy adventure of a lifetime, with stunning battles, unforgettable characters, and a quest to save Middle-earth!\n",
            "\n",
            "**It's a Wonderful Life (1946) - ⭐⭐⭐⭐⭐ 8.277** ❤️🎄\n",
            "A heartwarming classic about the power of kindness, friendship, and the magic of the human spirit.\n",
            "\n",
            "Hope you find something that casts a spell on you! 😊 Let me know if you need more recommendations.\n"
          ]
        }
      ]
    },
    {
      "cell_type": "code",
      "source": [],
      "metadata": {
        "id": "eirOb4FIOAmV"
      },
      "execution_count": 10,
      "outputs": []
    }
  ]
}